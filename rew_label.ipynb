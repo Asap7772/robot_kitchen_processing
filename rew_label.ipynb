{
 "metadata": {
  "language_info": {
   "codemirror_mode": {
    "name": "ipython",
    "version": 3
   },
   "file_extension": ".py",
   "mimetype": "text/x-python",
   "name": "python",
   "nbconvert_exporter": "python",
   "pygments_lexer": "ipython3",
   "version": "3.6.10"
  },
  "orig_nbformat": 4,
  "kernelspec": {
   "name": "python3",
   "display_name": "Python 3.6.10 64-bit ('py36': conda)"
  },
  "interpreter": {
   "hash": "97ef7fecd4416c126eec23f9c8377ec2403c82f6827865e0087a4a97d072b1a0"
  }
 },
 "nbformat": 4,
 "nbformat_minor": 2,
 "cells": [
  {
   "cell_type": "code",
   "execution_count": 17,
   "metadata": {},
   "outputs": [
    {
     "output_type": "stream",
     "name": "stdout",
     "text": [
      "['/home/asap7772/asap7772/real_data_kitchen/bridge_data_numpy/toysink2_bww/put_knife_on_cutting_board/out.npy', '/home/asap7772/asap7772/real_data_kitchen/bridge_data_numpy/toysink2_bww/put_eggplant_into_pot_or_pan/out.npy', '/home/asap7772/asap7772/real_data_kitchen/bridge_data_numpy/toysink2_bww/put_spoon_in_pot/out.npy', '/home/asap7772/asap7772/real_data_kitchen/bridge_data_numpy/toysink2_bww/turn_lever_vertical_to-front/out.npy', '/home/asap7772/asap7772/real_data_kitchen/bridge_data_numpy/toysink2_bww/put_cup_from_counter_or_drying_rack_into_sink/out.npy', '/home/asap7772/asap7772/real_data_kitchen/bridge_data_numpy/toysink2_bww/flip_pot_upright_which_is_in_sink/out.npy', '/home/asap7772/asap7772/real_data_kitchen/bridge_data_numpy/toysink2_bww/put_carrot_on_plate/out.npy', '/home/asap7772/asap7772/real_data_kitchen/bridge_data_numpy/toysink3_bww/put_pot_or_pan_from_sink_into_drying_rack/out.npy', '/home/asap7772/asap7772/real_data_kitchen/bridge_data_numpy/toysink3_bww/put_cup_from_anywhere_into_sink/out.npy', '/home/asap7772/asap7772/real_data_kitchen/bridge_data_numpy/toysink3_bww/flip_cup_upright/out.npy', '/home/asap7772/asap7772/real_data_kitchen/bridge_data_numpy/toysink3_bww/turn_lever_vertical_to_front/out.npy', '/home/asap7772/asap7772/real_data_kitchen/bridge_data_numpy/toysink3_bww/put_brush_into_pot_or_pan/out.npy', '/home/asap7772/asap7772/real_data_kitchen/bridge_data_numpy/toysink3_bww/take_lid_off_pot_or_pan/out.npy', '/home/asap7772/asap7772/real_data_kitchen/bridge_data_numpy/toysink3_bww/put_lid_on_pot_or_pan/out.npy', '/home/asap7772/asap7772/real_data_kitchen/bridge_data_numpy/toysink3_bww/put_cup_into_pot_or_pan/out.npy', '/home/asap7772/asap7772/real_data_kitchen/bridge_data_numpy/toysink3_bww/put_detergent_from_sink_into_drying_rack/out.npy', '/home/asap7772/asap7772/real_data_kitchen/bridge_data_numpy/toysink3_bww/put_green_squash_into_pot_or_pan/out.npy', '/home/asap7772/asap7772/real_data_kitchen/bridge_data_numpy/toysink3_bww/put_knife_in_pot_or_pan/out.npy', '/home/asap7772/asap7772/real_data_kitchen/bridge_data_numpy/toysink1_room8052/put_pan_from_stove_to_sink/out.npy', '/home/asap7772/asap7772/real_data_kitchen/bridge_data_numpy/toysink1_room8052/put_spoon_into_pan/out.npy', '/home/asap7772/asap7772/real_data_kitchen/bridge_data_numpy/toysink1_room8052/flip_pot_upright_which_is_in_sink/out.npy', '/home/asap7772/asap7772/real_data_kitchen/bridge_data_numpy/toysink1_room8052/put_pan_on_stove_from_sink/out.npy', '/home/asap7772/asap7772/real_data_kitchen/bridge_data_numpy/toysink1_room8052/put_pan_from_drying_rack_into_sink/out.npy', '/home/asap7772/asap7772/real_data_kitchen/bridge_data_numpy/toysink1_room8052/put_pan_from_sink_into_drying_rack/out.npy', '/home/asap7772/asap7772/real_data_kitchen/bridge_data_numpy/toysink1_room8052/put_eggplant_into_pan/out.npy', '/home/asap7772/asap7772/real_data_kitchen/bridge_data_numpy/toykitchen2_room8052/put_strawberry_in_pot/out.npy', '/home/asap7772/asap7772/real_data_kitchen/bridge_data_numpy/toykitchen2_room8052/put_pear_in_bowl/out.npy', '/home/asap7772/asap7772/real_data_kitchen/bridge_data_numpy/toykitchen2_room8052/turn_lever_vertical_to_front/out.npy', '/home/asap7772/asap7772/real_data_kitchen/bridge_data_numpy/toykitchen2_room8052/put_sweet_potato_in_pot/out.npy', '/home/asap7772/asap7772/real_data_kitchen/bridge_data_numpy/toykitchen2_room8052/put_spatula_in_pan/out.npy', '/home/asap7772/asap7772/real_data_kitchen/bridge_data_numpy/toykitchen2_room8052/put_pot_or_pan_in_sink/out.npy', '/home/asap7772/asap7772/real_data_kitchen/bridge_data_numpy/toykitchen2_room8052/put_lemon_on_plate/out.npy', '/home/asap7772/asap7772/real_data_kitchen/bridge_data_numpy/toykitchen2_room8052/put_carrot_in_pot_or_pan/out.npy', '/home/asap7772/asap7772/real_data_kitchen/bridge_data_numpy/toykitchen2_room8052/flip_salt_upright/out.npy', '/home/asap7772/asap7772/real_data_kitchen/bridge_data_numpy/toykitchen2_room8052/put_sushi_on_plate/out.npy', '/home/asap7772/asap7772/real_data_kitchen/bridge_data_numpy/toykitchen2_room8052/put_corn_on_plate/out.npy', '/home/asap7772/asap7772/real_data_kitchen/bridge_data_numpy/toykitchen2_room8052/put_can_in_pot/out.npy', '/home/asap7772/asap7772/real_data_kitchen/bridge_data_numpy/toykitchen2_room8052/flip_orange_pot_upright_in_sink/out.npy', '/home/asap7772/asap7772/real_data_kitchen/bridge_data_numpy/toykitchen2_room8052/lift_bowl/out.npy', '/home/asap7772/asap7772/real_data_kitchen/bridge_data_numpy/toykitchen2_room8052/put_pot_or_pan_on_stove/out.npy', '/home/asap7772/asap7772/real_data_kitchen/bridge_data_numpy/toykitchen2_room8052/put_potato_on_plate/out.npy', '/home/asap7772/asap7772/real_data_kitchen/bridge_data_numpy/toykitchen2_room8052/put_potato_in_pot_or_pan/out.npy', '/home/asap7772/asap7772/real_data_kitchen/bridge_data_numpy/toykitchen2_room8052/put_knife_on_cutting_board/out.npy', '/home/asap7772/asap7772/real_data_kitchen/bridge_data_numpy/toykitchen1/put_eggplant_in_pot_or_pan/out.npy', '/home/asap7772/asap7772/real_data_kitchen/bridge_data_numpy/toykitchen1/put_pot_in_sink/out.npy', '/home/asap7772/asap7772/real_data_kitchen/bridge_data_numpy/toykitchen1/put_green_squash_in_pot_or_pan/out.npy', '/home/asap7772/asap7772/real_data_kitchen/bridge_data_numpy/toykitchen1/initial_testconfig/out.npy', '/home/asap7772/asap7772/real_data_kitchen/bridge_data_numpy/toykitchen1/put_carrot_on_plate/out.npy', '/home/asap7772/asap7772/real_data_kitchen/bridge_data_numpy/toykitchen1/put_knife_on_cutting_board/out.npy', '/home/asap7772/asap7772/real_data_kitchen/bridge_data_numpy/toykitchen1/twist_knob_start_vertical_clockwise90/out.npy', '/home/asap7772/asap7772/real_data_kitchen/bridge_data_numpy/toykitchen1/put_corn_in_pan_which-is_on_stove_distractors/out.npy', '/home/asap7772/asap7772/real_data_kitchen/bridge_data_numpy/toykitchen1/put_pepper_in_pot_or_pan/out.npy', '/home/asap7772/asap7772/real_data_kitchen/bridge_data_numpy/toykitchen1/pick_up_pot_from_sink_distractors/out.npy', '/home/asap7772/asap7772/real_data_kitchen/bridge_data_numpy/toykitchen1/put_carrot_on_cutting_board/out.npy', '/home/asap7772/asap7772/real_data_kitchen/bridge_data_numpy/toykitchen1/turn_lever_vertical_to_front_distractors/out.npy', '/home/asap7772/asap7772/real_data_kitchen/bridge_data_numpy/toykitchen1/flip_pot_upright_in_sink_distractors/out.npy', '/home/asap7772/asap7772/real_data_kitchen/bridge_data_numpy/toykitchen1/put_pan_in_sink/out.npy', '/home/asap7772/asap7772/real_data_kitchen/bridge_data_numpy/toykitchen1/put_sweet_potato_in_pot_which_is_in_sink_distractors/out.npy', '/home/asap7772/asap7772/real_data_kitchen/bridge_data_numpy/toykitchen1/put_lid_on_stove/out.npy', '/home/asap7772/asap7772/real_data_kitchen/bridge_data_numpy/toykitchen1/put_eggplant_on_plate/out.npy', '/home/asap7772/asap7772/real_data_kitchen/bridge_data_numpy/toykitchen1/put_lid_on_pot_or_pan/out.npy', '/home/asap7772/asap7772/real_data_kitchen/bridge_data_numpy/toykitchen1/put_pot_on_stove_which_is_near_stove_distractors/out.npy', '/home/asap7772/asap7772/real_data_kitchen/bridge_data_numpy/toykitchen1/pick_up_pan_from_stove_distractors/out.npy', '/home/asap7772/asap7772/real_data_kitchen/bridge_data_numpy/toykitchen1/turn_faucet_front_to_left/out.npy', '/home/asap7772/asap7772/real_data_kitchen/bridge_data_numpy/toykitchen1/put_corn_in_pot_which_is_in_sink_distractors/out.npy', '/home/asap7772/asap7772/real_data_kitchen/bridge_data_numpy/toykitchen1/put_sweet_potato_in_pan_which_is_on_stove_distractors/out.npy', '/home/asap7772/asap7772/real_data_kitchen/bridge_data_numpy/toykitchen1/put_corn_in_pan_which_is_on_stove_distractors/out.npy', '/home/asap7772/asap7772/real_data_kitchen/bridge_data_numpy/toykitchen1/put_sweet_potato_in_pan_which_is_on_stove/out.npy', '/home/asap7772/asap7772/real_data_kitchen/bridge_data_numpy/toykitchen1/lever_vertical_to_front/out.npy']\n69\n"
     ]
    }
   ],
   "source": [
    "import os\n",
    "import numpy as np\n",
    "import glob\n",
    "import gc\n",
    "\n",
    "path = '/home/asap7772/asap7772/real_data_kitchen/bridge_data_numpy/'\n",
    "\n",
    "dirs = glob.glob(path + '*/*/out.npy')\n",
    "\n",
    "print(dirs)\n",
    "print(len(dirs))\n"
   ]
  },
  {
   "cell_type": "code",
   "execution_count": 18,
   "metadata": {},
   "outputs": [
    {
     "output_type": "stream",
     "name": "stdout",
     "text": [
      "/home/asap7772/asap7772/real_data_kitchen/bridge_data_numpy/toysink2_bww/put_knife_on_cutting_board/out.npy\n",
      "/home/asap7772/asap7772/real_data_kitchen/bridge_data_numpy/toysink2_bww/put_eggplant_into_pot_or_pan/out.npy\n",
      "/home/asap7772/asap7772/real_data_kitchen/bridge_data_numpy/toysink2_bww/put_spoon_in_pot/out.npy\n",
      "/home/asap7772/asap7772/real_data_kitchen/bridge_data_numpy/toysink2_bww/turn_lever_vertical_to-front/out.npy\n",
      "/home/asap7772/asap7772/real_data_kitchen/bridge_data_numpy/toysink2_bww/put_cup_from_counter_or_drying_rack_into_sink/out.npy\n",
      "/home/asap7772/asap7772/real_data_kitchen/bridge_data_numpy/toysink2_bww/flip_pot_upright_which_is_in_sink/out.npy\n",
      "/home/asap7772/asap7772/real_data_kitchen/bridge_data_numpy/toysink2_bww/put_carrot_on_plate/out.npy\n",
      "/home/asap7772/asap7772/real_data_kitchen/bridge_data_numpy/toysink3_bww/put_pot_or_pan_from_sink_into_drying_rack/out.npy\n",
      "/home/asap7772/asap7772/real_data_kitchen/bridge_data_numpy/toysink3_bww/put_cup_from_anywhere_into_sink/out.npy\n",
      "/home/asap7772/asap7772/real_data_kitchen/bridge_data_numpy/toysink3_bww/flip_cup_upright/out.npy\n",
      "/home/asap7772/asap7772/real_data_kitchen/bridge_data_numpy/toysink3_bww/turn_lever_vertical_to_front/out.npy\n",
      "/home/asap7772/asap7772/real_data_kitchen/bridge_data_numpy/toysink3_bww/put_brush_into_pot_or_pan/out.npy\n",
      "/home/asap7772/asap7772/real_data_kitchen/bridge_data_numpy/toysink3_bww/take_lid_off_pot_or_pan/out.npy\n",
      "/home/asap7772/asap7772/real_data_kitchen/bridge_data_numpy/toysink3_bww/put_lid_on_pot_or_pan/out.npy\n",
      "/home/asap7772/asap7772/real_data_kitchen/bridge_data_numpy/toysink3_bww/put_cup_into_pot_or_pan/out.npy\n",
      "/home/asap7772/asap7772/real_data_kitchen/bridge_data_numpy/toysink3_bww/put_detergent_from_sink_into_drying_rack/out.npy\n",
      "/home/asap7772/asap7772/real_data_kitchen/bridge_data_numpy/toysink3_bww/put_green_squash_into_pot_or_pan/out.npy\n",
      "/home/asap7772/asap7772/real_data_kitchen/bridge_data_numpy/toysink3_bww/put_knife_in_pot_or_pan/out.npy\n",
      "/home/asap7772/asap7772/real_data_kitchen/bridge_data_numpy/toysink1_room8052/put_pan_from_stove_to_sink/out.npy\n",
      "/home/asap7772/asap7772/real_data_kitchen/bridge_data_numpy/toysink1_room8052/put_spoon_into_pan/out.npy\n",
      "/home/asap7772/asap7772/real_data_kitchen/bridge_data_numpy/toysink1_room8052/flip_pot_upright_which_is_in_sink/out.npy\n",
      "/home/asap7772/asap7772/real_data_kitchen/bridge_data_numpy/toysink1_room8052/put_pan_on_stove_from_sink/out.npy\n",
      "/home/asap7772/asap7772/real_data_kitchen/bridge_data_numpy/toysink1_room8052/put_pan_from_drying_rack_into_sink/out.npy\n",
      "/home/asap7772/asap7772/real_data_kitchen/bridge_data_numpy/toysink1_room8052/put_pan_from_sink_into_drying_rack/out.npy\n",
      "/home/asap7772/asap7772/real_data_kitchen/bridge_data_numpy/toysink1_room8052/put_eggplant_into_pan/out.npy\n",
      "/home/asap7772/asap7772/real_data_kitchen/bridge_data_numpy/toykitchen2_room8052/put_strawberry_in_pot/out.npy\n",
      "/home/asap7772/asap7772/real_data_kitchen/bridge_data_numpy/toykitchen2_room8052/put_pear_in_bowl/out.npy\n",
      "/home/asap7772/asap7772/real_data_kitchen/bridge_data_numpy/toykitchen2_room8052/turn_lever_vertical_to_front/out.npy\n",
      "/home/asap7772/asap7772/real_data_kitchen/bridge_data_numpy/toykitchen2_room8052/put_sweet_potato_in_pot/out.npy\n",
      "/home/asap7772/asap7772/real_data_kitchen/bridge_data_numpy/toykitchen2_room8052/put_spatula_in_pan/out.npy\n",
      "/home/asap7772/asap7772/real_data_kitchen/bridge_data_numpy/toykitchen2_room8052/put_pot_or_pan_in_sink/out.npy\n",
      "/home/asap7772/asap7772/real_data_kitchen/bridge_data_numpy/toykitchen2_room8052/put_lemon_on_plate/out.npy\n",
      "/home/asap7772/asap7772/real_data_kitchen/bridge_data_numpy/toykitchen2_room8052/put_carrot_in_pot_or_pan/out.npy\n",
      "/home/asap7772/asap7772/real_data_kitchen/bridge_data_numpy/toykitchen2_room8052/flip_salt_upright/out.npy\n",
      "/home/asap7772/asap7772/real_data_kitchen/bridge_data_numpy/toykitchen2_room8052/put_sushi_on_plate/out.npy\n",
      "/home/asap7772/asap7772/real_data_kitchen/bridge_data_numpy/toykitchen2_room8052/put_corn_on_plate/out.npy\n",
      "/home/asap7772/asap7772/real_data_kitchen/bridge_data_numpy/toykitchen2_room8052/put_can_in_pot/out.npy\n",
      "/home/asap7772/asap7772/real_data_kitchen/bridge_data_numpy/toykitchen2_room8052/flip_orange_pot_upright_in_sink/out.npy\n",
      "/home/asap7772/asap7772/real_data_kitchen/bridge_data_numpy/toykitchen2_room8052/lift_bowl/out.npy\n",
      "/home/asap7772/asap7772/real_data_kitchen/bridge_data_numpy/toykitchen2_room8052/put_pot_or_pan_on_stove/out.npy\n",
      "/home/asap7772/asap7772/real_data_kitchen/bridge_data_numpy/toykitchen2_room8052/put_potato_on_plate/out.npy\n",
      "/home/asap7772/asap7772/real_data_kitchen/bridge_data_numpy/toykitchen2_room8052/put_potato_in_pot_or_pan/out.npy\n",
      "/home/asap7772/asap7772/real_data_kitchen/bridge_data_numpy/toykitchen2_room8052/put_knife_on_cutting_board/out.npy\n",
      "/home/asap7772/asap7772/real_data_kitchen/bridge_data_numpy/toykitchen1/put_eggplant_in_pot_or_pan/out.npy\n",
      "/home/asap7772/asap7772/real_data_kitchen/bridge_data_numpy/toykitchen1/put_pot_in_sink/out.npy\n",
      "/home/asap7772/asap7772/real_data_kitchen/bridge_data_numpy/toykitchen1/put_green_squash_in_pot_or_pan/out.npy\n",
      "/home/asap7772/asap7772/real_data_kitchen/bridge_data_numpy/toykitchen1/initial_testconfig/out.npy\n",
      "/home/asap7772/asap7772/real_data_kitchen/bridge_data_numpy/toykitchen1/put_carrot_on_plate/out.npy\n",
      "/home/asap7772/asap7772/real_data_kitchen/bridge_data_numpy/toykitchen1/put_knife_on_cutting_board/out.npy\n",
      "/home/asap7772/asap7772/real_data_kitchen/bridge_data_numpy/toykitchen1/twist_knob_start_vertical_clockwise90/out.npy\n",
      "/home/asap7772/asap7772/real_data_kitchen/bridge_data_numpy/toykitchen1/put_corn_in_pan_which-is_on_stove_distractors/out.npy\n",
      "/home/asap7772/asap7772/real_data_kitchen/bridge_data_numpy/toykitchen1/put_pepper_in_pot_or_pan/out.npy\n",
      "/home/asap7772/asap7772/real_data_kitchen/bridge_data_numpy/toykitchen1/pick_up_pot_from_sink_distractors/out.npy\n",
      "/home/asap7772/asap7772/real_data_kitchen/bridge_data_numpy/toykitchen1/put_carrot_on_cutting_board/out.npy\n",
      "/home/asap7772/asap7772/real_data_kitchen/bridge_data_numpy/toykitchen1/turn_lever_vertical_to_front_distractors/out.npy\n",
      "/home/asap7772/asap7772/real_data_kitchen/bridge_data_numpy/toykitchen1/flip_pot_upright_in_sink_distractors/out.npy\n",
      "/home/asap7772/asap7772/real_data_kitchen/bridge_data_numpy/toykitchen1/put_pan_in_sink/out.npy\n",
      "/home/asap7772/asap7772/real_data_kitchen/bridge_data_numpy/toykitchen1/put_sweet_potato_in_pot_which_is_in_sink_distractors/out.npy\n",
      "/home/asap7772/asap7772/real_data_kitchen/bridge_data_numpy/toykitchen1/put_lid_on_stove/out.npy\n",
      "/home/asap7772/asap7772/real_data_kitchen/bridge_data_numpy/toykitchen1/put_eggplant_on_plate/out.npy\n",
      "/home/asap7772/asap7772/real_data_kitchen/bridge_data_numpy/toykitchen1/put_lid_on_pot_or_pan/out.npy\n",
      "/home/asap7772/asap7772/real_data_kitchen/bridge_data_numpy/toykitchen1/put_pot_on_stove_which_is_near_stove_distractors/out.npy\n",
      "/home/asap7772/asap7772/real_data_kitchen/bridge_data_numpy/toykitchen1/pick_up_pan_from_stove_distractors/out.npy\n",
      "/home/asap7772/asap7772/real_data_kitchen/bridge_data_numpy/toykitchen1/turn_faucet_front_to_left/out.npy\n",
      "/home/asap7772/asap7772/real_data_kitchen/bridge_data_numpy/toykitchen1/put_corn_in_pot_which_is_in_sink_distractors/out.npy\n",
      "/home/asap7772/asap7772/real_data_kitchen/bridge_data_numpy/toykitchen1/put_sweet_potato_in_pan_which_is_on_stove_distractors/out.npy\n",
      "/home/asap7772/asap7772/real_data_kitchen/bridge_data_numpy/toykitchen1/put_corn_in_pan_which_is_on_stove_distractors/out.npy\n",
      "/home/asap7772/asap7772/real_data_kitchen/bridge_data_numpy/toykitchen1/put_sweet_potato_in_pan_which_is_on_stove/out.npy\n",
      "/home/asap7772/asap7772/real_data_kitchen/bridge_data_numpy/toykitchen1/lever_vertical_to_front/out.npy\n"
     ]
    }
   ],
   "source": [
    "import copy\n",
    "\n",
    "for x in dirs:\n",
    "    print(x)\n",
    "    data = np.load(x, allow_pickle=True)\n",
    "    rews = []\n",
    "    for i in range(len(data)):\n",
    "        data[i]['rewards'] = data[i]['terminals'][:]\n",
    "        labeled_rew = data[i]['terminals'][:]\n",
    "        labeled_rew[-2:] = [1,1]\n",
    "        rews.append(labeled_rew)\n",
    "    np.save(x, data)\n",
    "    split_path = x.split('.')\n",
    "    np.save(split_path[0]+'_rew.npy', rews)"
   ]
  },
  {
   "cell_type": "code",
   "execution_count": null,
   "metadata": {},
   "outputs": [],
   "source": []
  }
 ]
}